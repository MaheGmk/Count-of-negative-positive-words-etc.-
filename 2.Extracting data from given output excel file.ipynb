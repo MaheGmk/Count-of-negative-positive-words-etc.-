{
 "cells": [
  {
   "cell_type": "code",
   "execution_count": 1,
   "id": "73f043e0",
   "metadata": {},
   "outputs": [],
   "source": [
    "import pandas as pd\n",
    "import numpy as np"
   ]
  },
  {
   "cell_type": "code",
   "execution_count": 2,
   "id": "6a110c63",
   "metadata": {},
   "outputs": [
    {
     "data": {
      "text/plain": [
       "['General info from parsing',\n",
       " 'Negative',\n",
       " 'Positive',\n",
       " 'Uncertainity',\n",
       " 'Litigious',\n",
       " 'Strong Modals',\n",
       " 'Weak Modals',\n",
       " 'Risk',\n",
       " 'Covid',\n",
       " 'Risk Financial',\n",
       " 'Risk Other Idiosyncratic',\n",
       " 'Risk Legal and Regulatory',\n",
       " 'Risk Other Systematic']"
      ]
     },
     "execution_count": 2,
     "metadata": {},
     "output_type": "execute_result"
    }
   ],
   "source": [
    "xls = pd.ExcelFile(r'D:\\Gianfranco SICILIANO\\reshape_JanMay2020.xlsx')\n",
    "\n",
    "# Now you can list all sheets in the file\n",
    "sheet_names=list(xls.sheet_names)\n",
    "sheet_names"
   ]
  },
  {
   "cell_type": "code",
   "execution_count": 7,
   "id": "782cd668",
   "metadata": {},
   "outputs": [],
   "source": [
    "dfex_new=pd.DataFrame()\n",
    "for i in sheet_names[1:]:\n",
    "    dfex_new[i]=pd.Series([j.title() for j in pd.read_excel(r'D:\\Gianfranco SICILIANO\\reshape_JanMay2020.xlsx', sheet_name=i).columns])"
   ]
  },
  {
   "cell_type": "code",
   "execution_count": 94,
   "id": "54f293b4",
   "metadata": {},
   "outputs": [
    {
     "data": {
      "text/html": [
       "<div>\n",
       "<style scoped>\n",
       "    .dataframe tbody tr th:only-of-type {\n",
       "        vertical-align: middle;\n",
       "    }\n",
       "\n",
       "    .dataframe tbody tr th {\n",
       "        vertical-align: top;\n",
       "    }\n",
       "\n",
       "    .dataframe thead th {\n",
       "        text-align: right;\n",
       "    }\n",
       "</style>\n",
       "<table border=\"1\" class=\"dataframe\">\n",
       "  <thead>\n",
       "    <tr style=\"text-align: right;\">\n",
       "      <th></th>\n",
       "      <th>Negative</th>\n",
       "      <th>Positive</th>\n",
       "      <th>Uncertainity</th>\n",
       "      <th>Litigious</th>\n",
       "      <th>Strong Modals</th>\n",
       "      <th>Weak Modals</th>\n",
       "      <th>Risk</th>\n",
       "      <th>Covid</th>\n",
       "      <th>Risk Financial</th>\n",
       "      <th>Risk Other Idiosyncratic</th>\n",
       "      <th>Risk Legal and Regulatory</th>\n",
       "      <th>Risk Other Systematic</th>\n",
       "    </tr>\n",
       "  </thead>\n",
       "  <tbody>\n",
       "    <tr>\n",
       "      <th>0</th>\n",
       "      <td>Isin</td>\n",
       "      <td>Isin</td>\n",
       "      <td>Isin</td>\n",
       "      <td>Isin</td>\n",
       "      <td>Isin</td>\n",
       "      <td>Isin</td>\n",
       "      <td>Isin</td>\n",
       "      <td>Isin</td>\n",
       "      <td>Isin</td>\n",
       "      <td>Isin</td>\n",
       "      <td>Isin</td>\n",
       "      <td>Isin</td>\n",
       "    </tr>\n",
       "    <tr>\n",
       "      <th>1</th>\n",
       "      <td>Country</td>\n",
       "      <td>Country</td>\n",
       "      <td>Country</td>\n",
       "      <td>Country</td>\n",
       "      <td>Country</td>\n",
       "      <td>Country</td>\n",
       "      <td>Country</td>\n",
       "      <td>Country</td>\n",
       "      <td>Country</td>\n",
       "      <td>Country</td>\n",
       "      <td>Country</td>\n",
       "      <td>Country</td>\n",
       "    </tr>\n",
       "    <tr>\n",
       "      <th>2</th>\n",
       "      <td>Exchange</td>\n",
       "      <td>Exchange</td>\n",
       "      <td>Exchange</td>\n",
       "      <td>Exchange</td>\n",
       "      <td>Exchange</td>\n",
       "      <td>Exchange</td>\n",
       "      <td>Exchange</td>\n",
       "      <td>Exchange</td>\n",
       "      <td>Exchange</td>\n",
       "      <td>Exchange</td>\n",
       "      <td>Exchange</td>\n",
       "      <td>Exchange</td>\n",
       "    </tr>\n",
       "    <tr>\n",
       "      <th>3</th>\n",
       "      <td>Bvd_Sector</td>\n",
       "      <td>Bvd_Sector</td>\n",
       "      <td>Bvd_Sector</td>\n",
       "      <td>Bvd_Sector</td>\n",
       "      <td>Bvd_Sector</td>\n",
       "      <td>Bvd_Sector</td>\n",
       "      <td>Bvd_Sector</td>\n",
       "      <td>Bvd_Sector</td>\n",
       "      <td>Bvd_Sector</td>\n",
       "      <td>Bvd_Sector</td>\n",
       "      <td>Bvd_Sector</td>\n",
       "      <td>Bvd_Sector</td>\n",
       "    </tr>\n",
       "    <tr>\n",
       "      <th>4</th>\n",
       "      <td>Sic</td>\n",
       "      <td>Sic</td>\n",
       "      <td>Sic</td>\n",
       "      <td>Sic</td>\n",
       "      <td>Sic</td>\n",
       "      <td>Sic</td>\n",
       "      <td>Sic</td>\n",
       "      <td>Sic</td>\n",
       "      <td>Sic</td>\n",
       "      <td>Sic</td>\n",
       "      <td>Sic</td>\n",
       "      <td>Sic</td>\n",
       "    </tr>\n",
       "    <tr>\n",
       "      <th>5</th>\n",
       "      <td>Comname</td>\n",
       "      <td>Comname</td>\n",
       "      <td>Comname</td>\n",
       "      <td>Comname</td>\n",
       "      <td>Comname</td>\n",
       "      <td>Comname</td>\n",
       "      <td>Comname</td>\n",
       "      <td>Comname</td>\n",
       "      <td>Comname</td>\n",
       "      <td>Comname</td>\n",
       "      <td>Comname</td>\n",
       "      <td>Comname</td>\n",
       "    </tr>\n",
       "    <tr>\n",
       "      <th>6</th>\n",
       "      <td>Disclosure</td>\n",
       "      <td>Disclosure</td>\n",
       "      <td>Disclosure</td>\n",
       "      <td>Disclosure</td>\n",
       "      <td>Disclosure</td>\n",
       "      <td>Disclosure</td>\n",
       "      <td>Disclosure</td>\n",
       "      <td>Disclosure</td>\n",
       "      <td>Disclosure</td>\n",
       "      <td>Disclosure</td>\n",
       "      <td>Disclosure</td>\n",
       "      <td>Disclosure</td>\n",
       "    </tr>\n",
       "    <tr>\n",
       "      <th>7</th>\n",
       "      <td>Date</td>\n",
       "      <td>Date</td>\n",
       "      <td>Date</td>\n",
       "      <td>Date</td>\n",
       "      <td>Date</td>\n",
       "      <td>Date</td>\n",
       "      <td>Date</td>\n",
       "      <td>Date</td>\n",
       "      <td>Date</td>\n",
       "      <td>Date</td>\n",
       "      <td>Date</td>\n",
       "      <td>Date</td>\n",
       "    </tr>\n",
       "    <tr>\n",
       "      <th>8</th>\n",
       "      <td>Abandon</td>\n",
       "      <td>Able</td>\n",
       "      <td>Abeyance</td>\n",
       "      <td>Abovementioned</td>\n",
       "      <td>Always</td>\n",
       "      <td>Almost</td>\n",
       "      <td>Affect</td>\n",
       "      <td>China</td>\n",
       "      <td>Anti-Takeover (Provisions|Provision)</td>\n",
       "      <td>Acquisition</td>\n",
       "      <td>Adverse Judgment</td>\n",
       "      <td>Afghanistan</td>\n",
       "    </tr>\n",
       "  </tbody>\n",
       "</table>\n",
       "</div>"
      ],
      "text/plain": [
       "     Negative    Positive Uncertainity       Litigious Strong Modals  \\\n",
       "0        Isin        Isin         Isin            Isin          Isin   \n",
       "1     Country     Country      Country         Country       Country   \n",
       "2    Exchange    Exchange     Exchange        Exchange      Exchange   \n",
       "3  Bvd_Sector  Bvd_Sector   Bvd_Sector      Bvd_Sector    Bvd_Sector   \n",
       "4         Sic         Sic          Sic             Sic           Sic   \n",
       "5     Comname     Comname      Comname         Comname       Comname   \n",
       "6  Disclosure  Disclosure   Disclosure      Disclosure    Disclosure   \n",
       "7        Date        Date         Date            Date          Date   \n",
       "8     Abandon        Able     Abeyance  Abovementioned        Always   \n",
       "\n",
       "  Weak Modals        Risk       Covid                         Risk Financial  \\\n",
       "0        Isin        Isin        Isin                                   Isin   \n",
       "1     Country     Country     Country                                Country   \n",
       "2    Exchange    Exchange    Exchange                               Exchange   \n",
       "3  Bvd_Sector  Bvd_Sector  Bvd_Sector                             Bvd_Sector   \n",
       "4         Sic         Sic         Sic                                    Sic   \n",
       "5     Comname     Comname     Comname                                Comname   \n",
       "6  Disclosure  Disclosure  Disclosure                             Disclosure   \n",
       "7        Date        Date        Date                                   Date   \n",
       "8      Almost      Affect       China  Anti-Takeover (Provisions|Provision)    \n",
       "\n",
       "  Risk Other Idiosyncratic Risk Legal and Regulatory Risk Other Systematic  \n",
       "0                     Isin                      Isin                  Isin  \n",
       "1                  Country                   Country               Country  \n",
       "2                 Exchange                  Exchange              Exchange  \n",
       "3               Bvd_Sector                Bvd_Sector            Bvd_Sector  \n",
       "4                      Sic                       Sic                   Sic  \n",
       "5                  Comname                   Comname               Comname  \n",
       "6               Disclosure                Disclosure            Disclosure  \n",
       "7                     Date                      Date                  Date  \n",
       "8             Acquisition          Adverse Judgment           Afghanistan   "
      ]
     },
     "execution_count": 94,
     "metadata": {},
     "output_type": "execute_result"
    }
   ],
   "source": [
    "dfex_new.head(9)"
   ]
  },
  {
   "cell_type": "code",
   "execution_count": 10,
   "id": "2a3f9c68",
   "metadata": {},
   "outputs": [],
   "source": [
    "dfex_new.iloc[8:,:].to_csv(\"GF_clean_words2020.csv\", index=False)  #saving all the words which starts from 8th row"
   ]
  },
  {
   "cell_type": "code",
   "execution_count": 4,
   "id": "bde46fa5",
   "metadata": {},
   "outputs": [
    {
     "data": {
      "text/html": [
       "<div>\n",
       "<style scoped>\n",
       "    .dataframe tbody tr th:only-of-type {\n",
       "        vertical-align: middle;\n",
       "    }\n",
       "\n",
       "    .dataframe tbody tr th {\n",
       "        vertical-align: top;\n",
       "    }\n",
       "\n",
       "    .dataframe thead th {\n",
       "        text-align: right;\n",
       "    }\n",
       "</style>\n",
       "<table border=\"1\" class=\"dataframe\">\n",
       "  <thead>\n",
       "    <tr style=\"text-align: right;\">\n",
       "      <th></th>\n",
       "      <th>isin</th>\n",
       "      <th>country</th>\n",
       "      <th>exchange</th>\n",
       "      <th>bvd_sector</th>\n",
       "      <th>sic</th>\n",
       "      <th>comname</th>\n",
       "      <th>disclosure</th>\n",
       "      <th>date</th>\n",
       "      <th>words#</th>\n",
       "    </tr>\n",
       "  </thead>\n",
       "  <tbody>\n",
       "    <tr>\n",
       "      <th>0</th>\n",
       "      <td>AT0000609607</td>\n",
       "      <td>Austria</td>\n",
       "      <td>Vienna Stock Exchange</td>\n",
       "      <td>Construction</td>\n",
       "      <td>1521</td>\n",
       "      <td>PORR AG</td>\n",
       "      <td>pre</td>\n",
       "      <td>2020-03-10</td>\n",
       "      <td>NaN</td>\n",
       "    </tr>\n",
       "    <tr>\n",
       "      <th>1</th>\n",
       "      <td>AT0000609607</td>\n",
       "      <td>Austria</td>\n",
       "      <td>Vienna Stock Exchange</td>\n",
       "      <td>Construction</td>\n",
       "      <td>1521</td>\n",
       "      <td>PORR AG</td>\n",
       "      <td>earn</td>\n",
       "      <td>2020-04-27</td>\n",
       "      <td>NaN</td>\n",
       "    </tr>\n",
       "    <tr>\n",
       "      <th>2</th>\n",
       "      <td>AT0000609607</td>\n",
       "      <td>Austria</td>\n",
       "      <td>Vienna Stock Exchange</td>\n",
       "      <td>Construction</td>\n",
       "      <td>1521</td>\n",
       "      <td>PORR AG</td>\n",
       "      <td>other1</td>\n",
       "      <td>2020-01-31</td>\n",
       "      <td>NaN</td>\n",
       "    </tr>\n",
       "    <tr>\n",
       "      <th>3</th>\n",
       "      <td>AT0000609607</td>\n",
       "      <td>Austria</td>\n",
       "      <td>Vienna Stock Exchange</td>\n",
       "      <td>Construction</td>\n",
       "      <td>1521</td>\n",
       "      <td>PORR AG</td>\n",
       "      <td>other2</td>\n",
       "      <td>2020-02-05</td>\n",
       "      <td>NaN</td>\n",
       "    </tr>\n",
       "    <tr>\n",
       "      <th>4</th>\n",
       "      <td>AT0000609607</td>\n",
       "      <td>Austria</td>\n",
       "      <td>Vienna Stock Exchange</td>\n",
       "      <td>Construction</td>\n",
       "      <td>1521</td>\n",
       "      <td>PORR AG</td>\n",
       "      <td>other3</td>\n",
       "      <td>2020-04-02</td>\n",
       "      <td>NaN</td>\n",
       "    </tr>\n",
       "  </tbody>\n",
       "</table>\n",
       "</div>"
      ],
      "text/plain": [
       "           isin  country               exchange    bvd_sector   sic  comname  \\\n",
       "0  AT0000609607  Austria  Vienna Stock Exchange  Construction  1521  PORR AG   \n",
       "1  AT0000609607  Austria  Vienna Stock Exchange  Construction  1521  PORR AG   \n",
       "2  AT0000609607  Austria  Vienna Stock Exchange  Construction  1521  PORR AG   \n",
       "3  AT0000609607  Austria  Vienna Stock Exchange  Construction  1521  PORR AG   \n",
       "4  AT0000609607  Austria  Vienna Stock Exchange  Construction  1521  PORR AG   \n",
       "\n",
       "  disclosure       date  words#  \n",
       "0        pre 2020-03-10     NaN  \n",
       "1       earn 2020-04-27     NaN  \n",
       "2     other1 2020-01-31     NaN  \n",
       "3     other2 2020-02-05     NaN  \n",
       "4     other3 2020-04-02     NaN  "
      ]
     },
     "execution_count": 4,
     "metadata": {},
     "output_type": "execute_result"
    }
   ],
   "source": [
    "import pandas as pd\n",
    "dfn=pd.read_excel(r'D:\\Gianfranco SICILIANO\\reshape_JanMay2020.xlsx', sheet_name=\"General info from parsing\")\n",
    "dfn.head()"
   ]
  },
  {
   "cell_type": "code",
   "execution_count": 5,
   "id": "5f8e7abe",
   "metadata": {},
   "outputs": [
    {
     "data": {
      "text/plain": [
       "(12813, 9)"
      ]
     },
     "execution_count": 5,
     "metadata": {},
     "output_type": "execute_result"
    }
   ],
   "source": [
    "dfn.shape"
   ]
  },
  {
   "cell_type": "code",
   "execution_count": 13,
   "id": "257d393e",
   "metadata": {},
   "outputs": [
    {
     "data": {
      "text/html": [
       "<div>\n",
       "<style scoped>\n",
       "    .dataframe tbody tr th:only-of-type {\n",
       "        vertical-align: middle;\n",
       "    }\n",
       "\n",
       "    .dataframe tbody tr th {\n",
       "        vertical-align: top;\n",
       "    }\n",
       "\n",
       "    .dataframe thead th {\n",
       "        text-align: right;\n",
       "    }\n",
       "</style>\n",
       "<table border=\"1\" class=\"dataframe\">\n",
       "  <thead>\n",
       "    <tr style=\"text-align: right;\">\n",
       "      <th></th>\n",
       "      <th>isin</th>\n",
       "      <th>disclosure</th>\n",
       "    </tr>\n",
       "  </thead>\n",
       "  <tbody>\n",
       "    <tr>\n",
       "      <th>0</th>\n",
       "      <td>AT0000609607</td>\n",
       "      <td>pre</td>\n",
       "    </tr>\n",
       "    <tr>\n",
       "      <th>1</th>\n",
       "      <td>AT0000609607</td>\n",
       "      <td>earn</td>\n",
       "    </tr>\n",
       "    <tr>\n",
       "      <th>2</th>\n",
       "      <td>AT0000609607</td>\n",
       "      <td>other1</td>\n",
       "    </tr>\n",
       "    <tr>\n",
       "      <th>3</th>\n",
       "      <td>AT0000609607</td>\n",
       "      <td>other2</td>\n",
       "    </tr>\n",
       "    <tr>\n",
       "      <th>4</th>\n",
       "      <td>AT0000609607</td>\n",
       "      <td>other3</td>\n",
       "    </tr>\n",
       "  </tbody>\n",
       "</table>\n",
       "</div>"
      ],
      "text/plain": [
       "           isin disclosure\n",
       "0  AT0000609607        pre\n",
       "1  AT0000609607       earn\n",
       "2  AT0000609607     other1\n",
       "3  AT0000609607     other2\n",
       "4  AT0000609607     other3"
      ]
     },
     "execution_count": 13,
     "metadata": {},
     "output_type": "execute_result"
    }
   ],
   "source": [
    "dfn=dfGP[[\"isin\",\"disclosure\"]]\n",
    "dfn.head()"
   ]
  },
  {
   "cell_type": "code",
   "execution_count": 6,
   "id": "2acb2b16",
   "metadata": {},
   "outputs": [],
   "source": [
    "dfn[\"File_name_output\"]=dfn[\"isin\"].str.strip()+\"_\"+dfn[\"disclosure\"].str.strip()"
   ]
  },
  {
   "cell_type": "code",
   "execution_count": 7,
   "id": "ca27a90a",
   "metadata": {},
   "outputs": [
    {
     "data": {
      "text/html": [
       "<div>\n",
       "<style scoped>\n",
       "    .dataframe tbody tr th:only-of-type {\n",
       "        vertical-align: middle;\n",
       "    }\n",
       "\n",
       "    .dataframe tbody tr th {\n",
       "        vertical-align: top;\n",
       "    }\n",
       "\n",
       "    .dataframe thead th {\n",
       "        text-align: right;\n",
       "    }\n",
       "</style>\n",
       "<table border=\"1\" class=\"dataframe\">\n",
       "  <thead>\n",
       "    <tr style=\"text-align: right;\">\n",
       "      <th></th>\n",
       "      <th>isin</th>\n",
       "      <th>country</th>\n",
       "      <th>exchange</th>\n",
       "      <th>bvd_sector</th>\n",
       "      <th>sic</th>\n",
       "      <th>comname</th>\n",
       "      <th>disclosure</th>\n",
       "      <th>date</th>\n",
       "      <th>words#</th>\n",
       "      <th>File_name_output</th>\n",
       "    </tr>\n",
       "  </thead>\n",
       "  <tbody>\n",
       "    <tr>\n",
       "      <th>0</th>\n",
       "      <td>AT0000609607</td>\n",
       "      <td>Austria</td>\n",
       "      <td>Vienna Stock Exchange</td>\n",
       "      <td>Construction</td>\n",
       "      <td>1521</td>\n",
       "      <td>PORR AG</td>\n",
       "      <td>pre</td>\n",
       "      <td>2020-03-10</td>\n",
       "      <td>NaN</td>\n",
       "      <td>AT0000609607_pre</td>\n",
       "    </tr>\n",
       "    <tr>\n",
       "      <th>1</th>\n",
       "      <td>AT0000609607</td>\n",
       "      <td>Austria</td>\n",
       "      <td>Vienna Stock Exchange</td>\n",
       "      <td>Construction</td>\n",
       "      <td>1521</td>\n",
       "      <td>PORR AG</td>\n",
       "      <td>earn</td>\n",
       "      <td>2020-04-27</td>\n",
       "      <td>NaN</td>\n",
       "      <td>AT0000609607_earn</td>\n",
       "    </tr>\n",
       "    <tr>\n",
       "      <th>2</th>\n",
       "      <td>AT0000609607</td>\n",
       "      <td>Austria</td>\n",
       "      <td>Vienna Stock Exchange</td>\n",
       "      <td>Construction</td>\n",
       "      <td>1521</td>\n",
       "      <td>PORR AG</td>\n",
       "      <td>other1</td>\n",
       "      <td>2020-01-31</td>\n",
       "      <td>NaN</td>\n",
       "      <td>AT0000609607_other1</td>\n",
       "    </tr>\n",
       "    <tr>\n",
       "      <th>3</th>\n",
       "      <td>AT0000609607</td>\n",
       "      <td>Austria</td>\n",
       "      <td>Vienna Stock Exchange</td>\n",
       "      <td>Construction</td>\n",
       "      <td>1521</td>\n",
       "      <td>PORR AG</td>\n",
       "      <td>other2</td>\n",
       "      <td>2020-02-05</td>\n",
       "      <td>NaN</td>\n",
       "      <td>AT0000609607_other2</td>\n",
       "    </tr>\n",
       "    <tr>\n",
       "      <th>4</th>\n",
       "      <td>AT0000609607</td>\n",
       "      <td>Austria</td>\n",
       "      <td>Vienna Stock Exchange</td>\n",
       "      <td>Construction</td>\n",
       "      <td>1521</td>\n",
       "      <td>PORR AG</td>\n",
       "      <td>other3</td>\n",
       "      <td>2020-04-02</td>\n",
       "      <td>NaN</td>\n",
       "      <td>AT0000609607_other3</td>\n",
       "    </tr>\n",
       "  </tbody>\n",
       "</table>\n",
       "</div>"
      ],
      "text/plain": [
       "           isin  country               exchange    bvd_sector   sic  comname  \\\n",
       "0  AT0000609607  Austria  Vienna Stock Exchange  Construction  1521  PORR AG   \n",
       "1  AT0000609607  Austria  Vienna Stock Exchange  Construction  1521  PORR AG   \n",
       "2  AT0000609607  Austria  Vienna Stock Exchange  Construction  1521  PORR AG   \n",
       "3  AT0000609607  Austria  Vienna Stock Exchange  Construction  1521  PORR AG   \n",
       "4  AT0000609607  Austria  Vienna Stock Exchange  Construction  1521  PORR AG   \n",
       "\n",
       "  disclosure       date  words#     File_name_output  \n",
       "0        pre 2020-03-10     NaN     AT0000609607_pre  \n",
       "1       earn 2020-04-27     NaN    AT0000609607_earn  \n",
       "2     other1 2020-01-31     NaN  AT0000609607_other1  \n",
       "3     other2 2020-02-05     NaN  AT0000609607_other2  \n",
       "4     other3 2020-04-02     NaN  AT0000609607_other3  "
      ]
     },
     "execution_count": 7,
     "metadata": {},
     "output_type": "execute_result"
    }
   ],
   "source": [
    "dfn.head()"
   ]
  },
  {
   "cell_type": "code",
   "execution_count": 8,
   "id": "5a5f1c66",
   "metadata": {},
   "outputs": [],
   "source": [
    "dfn[\"File_name\"]=dfn[\"File_name_output\"].str.strip()"
   ]
  },
  {
   "cell_type": "code",
   "execution_count": 9,
   "id": "785d4769",
   "metadata": {},
   "outputs": [
    {
     "data": {
      "text/html": [
       "<div>\n",
       "<style scoped>\n",
       "    .dataframe tbody tr th:only-of-type {\n",
       "        vertical-align: middle;\n",
       "    }\n",
       "\n",
       "    .dataframe tbody tr th {\n",
       "        vertical-align: top;\n",
       "    }\n",
       "\n",
       "    .dataframe thead th {\n",
       "        text-align: right;\n",
       "    }\n",
       "</style>\n",
       "<table border=\"1\" class=\"dataframe\">\n",
       "  <thead>\n",
       "    <tr style=\"text-align: right;\">\n",
       "      <th></th>\n",
       "      <th>isin</th>\n",
       "      <th>country</th>\n",
       "      <th>exchange</th>\n",
       "      <th>bvd_sector</th>\n",
       "      <th>sic</th>\n",
       "      <th>comname</th>\n",
       "      <th>disclosure</th>\n",
       "      <th>date</th>\n",
       "      <th>words#</th>\n",
       "      <th>File_name_output</th>\n",
       "      <th>File_name</th>\n",
       "    </tr>\n",
       "  </thead>\n",
       "  <tbody>\n",
       "    <tr>\n",
       "      <th>0</th>\n",
       "      <td>AT0000609607</td>\n",
       "      <td>Austria</td>\n",
       "      <td>Vienna Stock Exchange</td>\n",
       "      <td>Construction</td>\n",
       "      <td>1521</td>\n",
       "      <td>PORR AG</td>\n",
       "      <td>pre</td>\n",
       "      <td>2020-03-10</td>\n",
       "      <td>NaN</td>\n",
       "      <td>AT0000609607_pre</td>\n",
       "      <td>AT0000609607_pre</td>\n",
       "    </tr>\n",
       "    <tr>\n",
       "      <th>1</th>\n",
       "      <td>AT0000609607</td>\n",
       "      <td>Austria</td>\n",
       "      <td>Vienna Stock Exchange</td>\n",
       "      <td>Construction</td>\n",
       "      <td>1521</td>\n",
       "      <td>PORR AG</td>\n",
       "      <td>earn</td>\n",
       "      <td>2020-04-27</td>\n",
       "      <td>NaN</td>\n",
       "      <td>AT0000609607_earn</td>\n",
       "      <td>AT0000609607_earn</td>\n",
       "    </tr>\n",
       "    <tr>\n",
       "      <th>2</th>\n",
       "      <td>AT0000609607</td>\n",
       "      <td>Austria</td>\n",
       "      <td>Vienna Stock Exchange</td>\n",
       "      <td>Construction</td>\n",
       "      <td>1521</td>\n",
       "      <td>PORR AG</td>\n",
       "      <td>other1</td>\n",
       "      <td>2020-01-31</td>\n",
       "      <td>NaN</td>\n",
       "      <td>AT0000609607_other1</td>\n",
       "      <td>AT0000609607_other1</td>\n",
       "    </tr>\n",
       "    <tr>\n",
       "      <th>3</th>\n",
       "      <td>AT0000609607</td>\n",
       "      <td>Austria</td>\n",
       "      <td>Vienna Stock Exchange</td>\n",
       "      <td>Construction</td>\n",
       "      <td>1521</td>\n",
       "      <td>PORR AG</td>\n",
       "      <td>other2</td>\n",
       "      <td>2020-02-05</td>\n",
       "      <td>NaN</td>\n",
       "      <td>AT0000609607_other2</td>\n",
       "      <td>AT0000609607_other2</td>\n",
       "    </tr>\n",
       "    <tr>\n",
       "      <th>4</th>\n",
       "      <td>AT0000609607</td>\n",
       "      <td>Austria</td>\n",
       "      <td>Vienna Stock Exchange</td>\n",
       "      <td>Construction</td>\n",
       "      <td>1521</td>\n",
       "      <td>PORR AG</td>\n",
       "      <td>other3</td>\n",
       "      <td>2020-04-02</td>\n",
       "      <td>NaN</td>\n",
       "      <td>AT0000609607_other3</td>\n",
       "      <td>AT0000609607_other3</td>\n",
       "    </tr>\n",
       "  </tbody>\n",
       "</table>\n",
       "</div>"
      ],
      "text/plain": [
       "           isin  country               exchange    bvd_sector   sic  comname  \\\n",
       "0  AT0000609607  Austria  Vienna Stock Exchange  Construction  1521  PORR AG   \n",
       "1  AT0000609607  Austria  Vienna Stock Exchange  Construction  1521  PORR AG   \n",
       "2  AT0000609607  Austria  Vienna Stock Exchange  Construction  1521  PORR AG   \n",
       "3  AT0000609607  Austria  Vienna Stock Exchange  Construction  1521  PORR AG   \n",
       "4  AT0000609607  Austria  Vienna Stock Exchange  Construction  1521  PORR AG   \n",
       "\n",
       "  disclosure       date  words#     File_name_output            File_name  \n",
       "0        pre 2020-03-10     NaN     AT0000609607_pre     AT0000609607_pre  \n",
       "1       earn 2020-04-27     NaN    AT0000609607_earn    AT0000609607_earn  \n",
       "2     other1 2020-01-31     NaN  AT0000609607_other1  AT0000609607_other1  \n",
       "3     other2 2020-02-05     NaN  AT0000609607_other2  AT0000609607_other2  \n",
       "4     other3 2020-04-02     NaN  AT0000609607_other3  AT0000609607_other3  "
      ]
     },
     "execution_count": 9,
     "metadata": {},
     "output_type": "execute_result"
    }
   ],
   "source": [
    "dfn.head()"
   ]
  },
  {
   "cell_type": "code",
   "execution_count": 10,
   "id": "448783da",
   "metadata": {},
   "outputs": [],
   "source": [
    "dfn.drop([\"words#\"],axis=1,inplace=True)  \n",
    "dfn.drop([\"File_name_output\"],axis=1,inplace=True)  "
   ]
  },
  {
   "cell_type": "code",
   "execution_count": 11,
   "id": "7f91afc9",
   "metadata": {},
   "outputs": [
    {
     "data": {
      "text/html": [
       "<div>\n",
       "<style scoped>\n",
       "    .dataframe tbody tr th:only-of-type {\n",
       "        vertical-align: middle;\n",
       "    }\n",
       "\n",
       "    .dataframe tbody tr th {\n",
       "        vertical-align: top;\n",
       "    }\n",
       "\n",
       "    .dataframe thead th {\n",
       "        text-align: right;\n",
       "    }\n",
       "</style>\n",
       "<table border=\"1\" class=\"dataframe\">\n",
       "  <thead>\n",
       "    <tr style=\"text-align: right;\">\n",
       "      <th></th>\n",
       "      <th>isin</th>\n",
       "      <th>country</th>\n",
       "      <th>exchange</th>\n",
       "      <th>bvd_sector</th>\n",
       "      <th>sic</th>\n",
       "      <th>comname</th>\n",
       "      <th>disclosure</th>\n",
       "      <th>date</th>\n",
       "      <th>File_name</th>\n",
       "    </tr>\n",
       "  </thead>\n",
       "  <tbody>\n",
       "    <tr>\n",
       "      <th>0</th>\n",
       "      <td>AT0000609607</td>\n",
       "      <td>Austria</td>\n",
       "      <td>Vienna Stock Exchange</td>\n",
       "      <td>Construction</td>\n",
       "      <td>1521</td>\n",
       "      <td>PORR AG</td>\n",
       "      <td>pre</td>\n",
       "      <td>2020-03-10</td>\n",
       "      <td>AT0000609607_pre</td>\n",
       "    </tr>\n",
       "    <tr>\n",
       "      <th>1</th>\n",
       "      <td>AT0000609607</td>\n",
       "      <td>Austria</td>\n",
       "      <td>Vienna Stock Exchange</td>\n",
       "      <td>Construction</td>\n",
       "      <td>1521</td>\n",
       "      <td>PORR AG</td>\n",
       "      <td>earn</td>\n",
       "      <td>2020-04-27</td>\n",
       "      <td>AT0000609607_earn</td>\n",
       "    </tr>\n",
       "    <tr>\n",
       "      <th>2</th>\n",
       "      <td>AT0000609607</td>\n",
       "      <td>Austria</td>\n",
       "      <td>Vienna Stock Exchange</td>\n",
       "      <td>Construction</td>\n",
       "      <td>1521</td>\n",
       "      <td>PORR AG</td>\n",
       "      <td>other1</td>\n",
       "      <td>2020-01-31</td>\n",
       "      <td>AT0000609607_other1</td>\n",
       "    </tr>\n",
       "    <tr>\n",
       "      <th>3</th>\n",
       "      <td>AT0000609607</td>\n",
       "      <td>Austria</td>\n",
       "      <td>Vienna Stock Exchange</td>\n",
       "      <td>Construction</td>\n",
       "      <td>1521</td>\n",
       "      <td>PORR AG</td>\n",
       "      <td>other2</td>\n",
       "      <td>2020-02-05</td>\n",
       "      <td>AT0000609607_other2</td>\n",
       "    </tr>\n",
       "    <tr>\n",
       "      <th>4</th>\n",
       "      <td>AT0000609607</td>\n",
       "      <td>Austria</td>\n",
       "      <td>Vienna Stock Exchange</td>\n",
       "      <td>Construction</td>\n",
       "      <td>1521</td>\n",
       "      <td>PORR AG</td>\n",
       "      <td>other3</td>\n",
       "      <td>2020-04-02</td>\n",
       "      <td>AT0000609607_other3</td>\n",
       "    </tr>\n",
       "  </tbody>\n",
       "</table>\n",
       "</div>"
      ],
      "text/plain": [
       "           isin  country               exchange    bvd_sector   sic  comname  \\\n",
       "0  AT0000609607  Austria  Vienna Stock Exchange  Construction  1521  PORR AG   \n",
       "1  AT0000609607  Austria  Vienna Stock Exchange  Construction  1521  PORR AG   \n",
       "2  AT0000609607  Austria  Vienna Stock Exchange  Construction  1521  PORR AG   \n",
       "3  AT0000609607  Austria  Vienna Stock Exchange  Construction  1521  PORR AG   \n",
       "4  AT0000609607  Austria  Vienna Stock Exchange  Construction  1521  PORR AG   \n",
       "\n",
       "  disclosure       date            File_name  \n",
       "0        pre 2020-03-10     AT0000609607_pre  \n",
       "1       earn 2020-04-27    AT0000609607_earn  \n",
       "2     other1 2020-01-31  AT0000609607_other1  \n",
       "3     other2 2020-02-05  AT0000609607_other2  \n",
       "4     other3 2020-04-02  AT0000609607_other3  "
      ]
     },
     "execution_count": 11,
     "metadata": {},
     "output_type": "execute_result"
    }
   ],
   "source": [
    "dfn.head()"
   ]
  },
  {
   "cell_type": "code",
   "execution_count": 12,
   "id": "c03e7bae",
   "metadata": {},
   "outputs": [
    {
     "data": {
      "text/plain": [
       "(12813, 9)"
      ]
     },
     "execution_count": 12,
     "metadata": {},
     "output_type": "execute_result"
    }
   ],
   "source": [
    "dfn.shape"
   ]
  },
  {
   "cell_type": "code",
   "execution_count": 18,
   "id": "c871f9a8",
   "metadata": {},
   "outputs": [],
   "source": [
    "dfn.to_csv(\"File_name_output2020.csv\",index=False)"
   ]
  },
  {
   "cell_type": "code",
   "execution_count": 13,
   "id": "a42b2a62",
   "metadata": {},
   "outputs": [
    {
     "data": {
      "text/html": [
       "<div>\n",
       "<style scoped>\n",
       "    .dataframe tbody tr th:only-of-type {\n",
       "        vertical-align: middle;\n",
       "    }\n",
       "\n",
       "    .dataframe tbody tr th {\n",
       "        vertical-align: top;\n",
       "    }\n",
       "\n",
       "    .dataframe thead th {\n",
       "        text-align: right;\n",
       "    }\n",
       "</style>\n",
       "<table border=\"1\" class=\"dataframe\">\n",
       "  <thead>\n",
       "    <tr style=\"text-align: right;\">\n",
       "      <th></th>\n",
       "      <th>File_name</th>\n",
       "      <th>Data</th>\n",
       "    </tr>\n",
       "  </thead>\n",
       "  <tbody>\n",
       "    <tr>\n",
       "      <th>0</th>\n",
       "      <td>AT0000609607_2020_earn</td>\n",
       "      <td>Press release\\nPORR: Record order backlog prov...</td>\n",
       "    </tr>\n",
       "    <tr>\n",
       "      <th>1</th>\n",
       "      <td>AT0000609607_2020_pre</td>\n",
       "      <td>Press release\\nPreliminary figures 2019:\\nPORR...</td>\n",
       "    </tr>\n",
       "    <tr>\n",
       "      <th>2</th>\n",
       "      <td>AT0000609607_other1</td>\n",
       "      <td>Press Release\\nPORR starts into 2020 with succ...</td>\n",
       "    </tr>\n",
       "    <tr>\n",
       "      <th>3</th>\n",
       "      <td>AT0000609607_other2</td>\n",
       "      <td>Press release\\nPORR to modernise strategically...</td>\n",
       "    </tr>\n",
       "    <tr>\n",
       "      <th>4</th>\n",
       "      <td>AT0000609607_other3</td>\n",
       "      <td>Press release\\nPORR hands over the Gleisarena ...</td>\n",
       "    </tr>\n",
       "  </tbody>\n",
       "</table>\n",
       "</div>"
      ],
      "text/plain": [
       "                File_name                                               Data\n",
       "0  AT0000609607_2020_earn  Press release\\nPORR: Record order backlog prov...\n",
       "1   AT0000609607_2020_pre  Press release\\nPreliminary figures 2019:\\nPORR...\n",
       "2     AT0000609607_other1  Press Release\\nPORR starts into 2020 with succ...\n",
       "3     AT0000609607_other2  Press release\\nPORR to modernise strategically...\n",
       "4     AT0000609607_other3  Press release\\nPORR hands over the Gleisarena ..."
      ]
     },
     "execution_count": 13,
     "metadata": {},
     "output_type": "execute_result"
    }
   ],
   "source": [
    "dfl=pd.read_csv(\"Complete_GF_data_2020.csv\")\n",
    "dfl.head()"
   ]
  },
  {
   "cell_type": "code",
   "execution_count": 14,
   "id": "89adace4",
   "metadata": {},
   "outputs": [
    {
     "data": {
      "text/html": [
       "<div>\n",
       "<style scoped>\n",
       "    .dataframe tbody tr th:only-of-type {\n",
       "        vertical-align: middle;\n",
       "    }\n",
       "\n",
       "    .dataframe tbody tr th {\n",
       "        vertical-align: top;\n",
       "    }\n",
       "\n",
       "    .dataframe thead th {\n",
       "        text-align: right;\n",
       "    }\n",
       "</style>\n",
       "<table border=\"1\" class=\"dataframe\">\n",
       "  <thead>\n",
       "    <tr style=\"text-align: right;\">\n",
       "      <th></th>\n",
       "      <th>File_name</th>\n",
       "      <th>Data</th>\n",
       "    </tr>\n",
       "  </thead>\n",
       "  <tbody>\n",
       "    <tr>\n",
       "      <th>0</th>\n",
       "      <td>AT0000609607_2020_earn</td>\n",
       "      <td>Press release\\nPORR: Record order backlog prov...</td>\n",
       "    </tr>\n",
       "    <tr>\n",
       "      <th>1</th>\n",
       "      <td>AT0000609607_2020_pre</td>\n",
       "      <td>Press release\\nPreliminary figures 2019:\\nPORR...</td>\n",
       "    </tr>\n",
       "    <tr>\n",
       "      <th>2</th>\n",
       "      <td>AT0000609607_other1</td>\n",
       "      <td>Press Release\\nPORR starts into 2020 with succ...</td>\n",
       "    </tr>\n",
       "    <tr>\n",
       "      <th>3</th>\n",
       "      <td>AT0000609607_other2</td>\n",
       "      <td>Press release\\nPORR to modernise strategically...</td>\n",
       "    </tr>\n",
       "    <tr>\n",
       "      <th>4</th>\n",
       "      <td>AT0000609607_other3</td>\n",
       "      <td>Press release\\nPORR hands over the Gleisarena ...</td>\n",
       "    </tr>\n",
       "  </tbody>\n",
       "</table>\n",
       "</div>"
      ],
      "text/plain": [
       "                File_name                                               Data\n",
       "0  AT0000609607_2020_earn  Press release\\nPORR: Record order backlog prov...\n",
       "1   AT0000609607_2020_pre  Press release\\nPreliminary figures 2019:\\nPORR...\n",
       "2     AT0000609607_other1  Press Release\\nPORR starts into 2020 with succ...\n",
       "3     AT0000609607_other2  Press release\\nPORR to modernise strategically...\n",
       "4     AT0000609607_other3  Press release\\nPORR hands over the Gleisarena ..."
      ]
     },
     "execution_count": 14,
     "metadata": {},
     "output_type": "execute_result"
    }
   ],
   "source": [
    "dfl1=pd.concat([dfl[\"File_name\"].str.strip(),dfl[\"Data\"]],axis=1)\n",
    "dfl1.head()"
   ]
  },
  {
   "cell_type": "code",
   "execution_count": 22,
   "id": "62fc4936",
   "metadata": {},
   "outputs": [
    {
     "data": {
      "text/plain": [
       "(15807, 2)"
      ]
     },
     "execution_count": 22,
     "metadata": {},
     "output_type": "execute_result"
    }
   ],
   "source": [
    "dfl1.shape"
   ]
  },
  {
   "cell_type": "code",
   "execution_count": 23,
   "id": "c6b20ee0",
   "metadata": {},
   "outputs": [
    {
     "data": {
      "text/html": [
       "<div>\n",
       "<style scoped>\n",
       "    .dataframe tbody tr th:only-of-type {\n",
       "        vertical-align: middle;\n",
       "    }\n",
       "\n",
       "    .dataframe tbody tr th {\n",
       "        vertical-align: top;\n",
       "    }\n",
       "\n",
       "    .dataframe thead th {\n",
       "        text-align: right;\n",
       "    }\n",
       "</style>\n",
       "<table border=\"1\" class=\"dataframe\">\n",
       "  <thead>\n",
       "    <tr style=\"text-align: right;\">\n",
       "      <th></th>\n",
       "      <th>File_name</th>\n",
       "      <th>Data</th>\n",
       "    </tr>\n",
       "  </thead>\n",
       "  <tbody>\n",
       "  </tbody>\n",
       "</table>\n",
       "</div>"
      ],
      "text/plain": [
       "Empty DataFrame\n",
       "Columns: [File_name, Data]\n",
       "Index: []"
      ]
     },
     "execution_count": 23,
     "metadata": {},
     "output_type": "execute_result"
    }
   ],
   "source": [
    "dfl1[dfl1[\"File_name\"]==\"AT0000609607_pre\"]"
   ]
  },
  {
   "cell_type": "code",
   "execution_count": 64,
   "id": "f8ba33dd",
   "metadata": {},
   "outputs": [
    {
     "data": {
      "text/plain": [
       "(15807, 2)"
      ]
     },
     "execution_count": 64,
     "metadata": {},
     "output_type": "execute_result"
    }
   ],
   "source": [
    "dfl.shape"
   ]
  },
  {
   "cell_type": "code",
   "execution_count": 65,
   "id": "a6822e6c",
   "metadata": {},
   "outputs": [
    {
     "data": {
      "text/plain": [
       "((15807, 2), (12813, 3))"
      ]
     },
     "execution_count": 65,
     "metadata": {},
     "output_type": "execute_result"
    }
   ],
   "source": [
    "dfl.shape,dfn.shape"
   ]
  },
  {
   "cell_type": "code",
   "execution_count": 66,
   "id": "7c9fefe4",
   "metadata": {},
   "outputs": [
    {
     "data": {
      "text/plain": [
       "(12726, 3)"
      ]
     },
     "execution_count": 66,
     "metadata": {},
     "output_type": "execute_result"
    }
   ],
   "source": [
    "File_name_output3=[]\n",
    "File_name3=[]\n",
    "Data3=[]\n",
    "for i in dfn[\"File_name_output\"].str.strip():\n",
    "    for j in dfl[\"File_name\"].str.strip():\n",
    "        if i==j:\n",
    "            File_name_output3.append(i)\n",
    "            File_name3.append(j)\n",
    "            Data3.append(dfl[dfl[\"File_name\"].str.strip()==i][\"Data\"].values[0])             #code for merging input and output including duplicate values\n",
    "df0kld = pd.DataFrame({\"File_name\": File_name3,\"File_name_output\":File_name_output3,\n",
    "                    \"Data\": Data3})\n",
    "df0kld.shape"
   ]
  },
  {
   "cell_type": "code",
   "execution_count": 67,
   "id": "888c2061",
   "metadata": {},
   "outputs": [
    {
     "data": {
      "text/html": [
       "<div>\n",
       "<style scoped>\n",
       "    .dataframe tbody tr th:only-of-type {\n",
       "        vertical-align: middle;\n",
       "    }\n",
       "\n",
       "    .dataframe tbody tr th {\n",
       "        vertical-align: top;\n",
       "    }\n",
       "\n",
       "    .dataframe thead th {\n",
       "        text-align: right;\n",
       "    }\n",
       "</style>\n",
       "<table border=\"1\" class=\"dataframe\">\n",
       "  <thead>\n",
       "    <tr style=\"text-align: right;\">\n",
       "      <th></th>\n",
       "      <th>File_name</th>\n",
       "      <th>File_name_output</th>\n",
       "      <th>Data</th>\n",
       "    </tr>\n",
       "  </thead>\n",
       "  <tbody>\n",
       "    <tr>\n",
       "      <th>0</th>\n",
       "      <td>AT0000609607_other1</td>\n",
       "      <td>AT0000609607_other1</td>\n",
       "      <td>Press Release\\nPORR starts into 2020 with succ...</td>\n",
       "    </tr>\n",
       "    <tr>\n",
       "      <th>1</th>\n",
       "      <td>AT0000609607_other2</td>\n",
       "      <td>AT0000609607_other2</td>\n",
       "      <td>Press release\\nPORR to modernise strategically...</td>\n",
       "    </tr>\n",
       "    <tr>\n",
       "      <th>2</th>\n",
       "      <td>AT0000609607_other3</td>\n",
       "      <td>AT0000609607_other3</td>\n",
       "      <td>Press release\\nPORR hands over the Gleisarena ...</td>\n",
       "    </tr>\n",
       "    <tr>\n",
       "      <th>3</th>\n",
       "      <td>AT0000641352_earn</td>\n",
       "      <td>AT0000641352_earn</td>\n",
       "      <td>Press | 25.03.2020 | 20:00\\n\\nCA Immo achieves...</td>\n",
       "    </tr>\n",
       "    <tr>\n",
       "      <th>4</th>\n",
       "      <td>AT0000641352_other1</td>\n",
       "      <td>AT0000641352_other1</td>\n",
       "      <td>Press | 01/22/2020 | 17:59\\n\\nTree work in the...</td>\n",
       "    </tr>\n",
       "  </tbody>\n",
       "</table>\n",
       "</div>"
      ],
      "text/plain": [
       "             File_name     File_name_output  \\\n",
       "0  AT0000609607_other1  AT0000609607_other1   \n",
       "1  AT0000609607_other2  AT0000609607_other2   \n",
       "2  AT0000609607_other3  AT0000609607_other3   \n",
       "3    AT0000641352_earn    AT0000641352_earn   \n",
       "4  AT0000641352_other1  AT0000641352_other1   \n",
       "\n",
       "                                                Data  \n",
       "0  Press Release\\nPORR starts into 2020 with succ...  \n",
       "1  Press release\\nPORR to modernise strategically...  \n",
       "2  Press release\\nPORR hands over the Gleisarena ...  \n",
       "3  Press | 25.03.2020 | 20:00\\n\\nCA Immo achieves...  \n",
       "4  Press | 01/22/2020 | 17:59\\n\\nTree work in the...  "
      ]
     },
     "execution_count": 67,
     "metadata": {},
     "output_type": "execute_result"
    }
   ],
   "source": [
    "df0kld.head()"
   ]
  },
  {
   "cell_type": "code",
   "execution_count": 68,
   "id": "2317e8ea",
   "metadata": {},
   "outputs": [
    {
     "data": {
      "text/plain": [
       "(12726, 2)"
      ]
     },
     "execution_count": 68,
     "metadata": {},
     "output_type": "execute_result"
    }
   ],
   "source": [
    "Final=df0kld[[\"File_name\",\"Data\"]]\n",
    "Final.shape"
   ]
  },
  {
   "cell_type": "code",
   "execution_count": 76,
   "id": "f1518578",
   "metadata": {},
   "outputs": [],
   "source": [
    "Final.to_csv(\"Final_GF_12726_2020.csv\", index=False)"
   ]
  },
  {
   "cell_type": "code",
   "execution_count": 77,
   "id": "5adbd5c5",
   "metadata": {},
   "outputs": [
    {
     "data": {
      "text/plain": [
       "AT0000609607_other1     1\n",
       "IT0003027817_other17    1\n",
       "IT0003027817_other19    1\n",
       "IT0003056386_Q1         1\n",
       "IT0003057624_earn       1\n",
       "                       ..\n",
       "FR0004183960_earn       1\n",
       "FR0004183960_other1     1\n",
       "FR0004186856_earn       1\n",
       "FR0004186856_Q1         1\n",
       "SE0012674232_other2     1\n",
       "Name: File_name_output, Length: 12726, dtype: int64"
      ]
     },
     "execution_count": 77,
     "metadata": {},
     "output_type": "execute_result"
    }
   ],
   "source": [
    "df0kld[\"File_name_output\"].value_counts()       #No duplicate values are present"
   ]
  },
  {
   "cell_type": "code",
   "execution_count": 27,
   "id": "8c858409",
   "metadata": {},
   "outputs": [
    {
     "name": "stdout",
     "output_type": "stream",
     "text": [
      "Unique:  12813 , Total:  12813\n"
     ]
    }
   ],
   "source": [
    "print(\"Unique: \",len(dfn[\"File_name_output\"].unique()),\",\",\"Total: \",len(dfn[\"File_name_output\"])) #Expected"
   ]
  },
  {
   "cell_type": "code",
   "execution_count": 70,
   "id": "3f73b1ff",
   "metadata": {},
   "outputs": [
    {
     "name": "stdout",
     "output_type": "stream",
     "text": [
      "Unique:  12726 , Total:  12726\n"
     ]
    }
   ],
   "source": [
    "print(\"Unique: \",len(df0kld[\"File_name_output\"].unique()),\",\",\"Total: \",len(df0kld[\"File_name_output\"])) #Actual"
   ]
  },
  {
   "cell_type": "code",
   "execution_count": 69,
   "id": "9f8f91d1",
   "metadata": {},
   "outputs": [
    {
     "name": "stdout",
     "output_type": "stream",
     "text": [
      "Unique:  15807 , Total:  15807\n"
     ]
    }
   ],
   "source": [
    "print(\"Unique: \",len(dfl[\"File_name\"].unique()),\",\",\"Total: \",len(dfl[\"File_name\"])) #Total"
   ]
  },
  {
   "cell_type": "code",
   "execution_count": 71,
   "id": "4592f60c",
   "metadata": {},
   "outputs": [
    {
     "data": {
      "text/plain": [
       "12726"
      ]
     },
     "execution_count": 71,
     "metadata": {},
     "output_type": "execute_result"
    }
   ],
   "source": [
    "len(set(dfl[\"File_name\"].str.strip())&set(dfn[\"File_name_output\"].str.strip()))    #Common values"
   ]
  },
  {
   "cell_type": "code",
   "execution_count": 72,
   "id": "b93226af",
   "metadata": {},
   "outputs": [
    {
     "data": {
      "text/plain": [
       "15807"
      ]
     },
     "execution_count": 72,
     "metadata": {},
     "output_type": "execute_result"
    }
   ],
   "source": [
    "len(dfl[\"File_name\"].str.strip().unique())   #No duplicates in original data"
   ]
  },
  {
   "cell_type": "code",
   "execution_count": 87,
   "id": "4e113cca",
   "metadata": {},
   "outputs": [
    {
     "data": {
      "text/plain": [
       "(2994, 87)"
      ]
     },
     "execution_count": 87,
     "metadata": {},
     "output_type": "execute_result"
    }
   ],
   "source": [
    "15807-12813,12813-12726"
   ]
  },
  {
   "cell_type": "code",
   "execution_count": 83,
   "id": "eab3db5e",
   "metadata": {},
   "outputs": [
    {
     "data": {
      "text/plain": [
       "3081"
      ]
     },
     "execution_count": 83,
     "metadata": {},
     "output_type": "execute_result"
    }
   ],
   "source": [
    "Rows_3081=list(set(dfl[\"File_name\"].str.strip().unique())-set(dfn[\"File_name_output\"].str.strip().unique()))\n",
    "len(Rows_3081)                      #Total-output"
   ]
  },
  {
   "cell_type": "code",
   "execution_count": 85,
   "id": "757f95ac",
   "metadata": {},
   "outputs": [
    {
     "data": {
      "text/plain": [
       "['FR0004125920_earn',\n",
       " 'FR0000125007_other8',\n",
       " 'GB00BJVQC708_other12',\n",
       " 'GB00B23JN426_other3',\n",
       " 'CH0432492467_Q1',\n",
       " 'GB00BTFR4F17_other1',\n",
       " 'NO0010657448_other14']"
      ]
     },
     "execution_count": 85,
     "metadata": {},
     "output_type": "execute_result"
    }
   ],
   "source": [
    "Rows_3081[:7]   #total should not be in output"
   ]
  },
  {
   "cell_type": "code",
   "execution_count": 16,
   "id": "936e1f05",
   "metadata": {},
   "outputs": [
    {
     "data": {
      "text/plain": [
       "87"
      ]
     },
     "execution_count": 16,
     "metadata": {},
     "output_type": "execute_result"
    }
   ],
   "source": [
    "Rows_87a=list(set(dfn[\"File_name\"].unique())-set(dfl1[\"File_name\"].unique()))\n",
    "len(Rows_87a)"
   ]
  },
  {
   "cell_type": "code",
   "execution_count": 20,
   "id": "b3db5c60",
   "metadata": {},
   "outputs": [],
   "source": [
    "pd.Series(Rows_87a).to_csv(\"No_data_87_2020.csv\",index=False)"
   ]
  },
  {
   "cell_type": "code",
   "execution_count": 79,
   "id": "af9cb39f",
   "metadata": {},
   "outputs": [
    {
     "data": {
      "text/plain": [
       "87"
      ]
     },
     "execution_count": 79,
     "metadata": {},
     "output_type": "execute_result"
    }
   ],
   "source": [
    "Rows_87=list(set(dfn[\"File_name_output\"].str.strip().unique())-set(dfl[\"File_name\"].str.strip().unique()))\n",
    "len(Rows_87)   #output-total"
   ]
  },
  {
   "cell_type": "code",
   "execution_count": 80,
   "id": "567317a0",
   "metadata": {},
   "outputs": [
    {
     "data": {
      "text/plain": [
       "['GB0002570660_other14',\n",
       " 'BE0003826436_Q1',\n",
       " 'FI0009000400_other5',\n",
       " 'GB00B0358H47_other15',\n",
       " 'DE000A0Z23G6_earn',\n",
       " 'NO0010833262_other8',\n",
       " 'GB0006776081_other14',\n",
       " 'FI0009000400_other11']"
      ]
     },
     "execution_count": 80,
     "metadata": {},
     "output_type": "execute_result"
    }
   ],
   "source": [
    "Rows_87[:8]  #output not in total"
   ]
  },
  {
   "cell_type": "code",
   "execution_count": 59,
   "id": "2843d274",
   "metadata": {},
   "outputs": [
    {
     "data": {
      "text/html": [
       "<div>\n",
       "<style scoped>\n",
       "    .dataframe tbody tr th:only-of-type {\n",
       "        vertical-align: middle;\n",
       "    }\n",
       "\n",
       "    .dataframe tbody tr th {\n",
       "        vertical-align: top;\n",
       "    }\n",
       "\n",
       "    .dataframe thead th {\n",
       "        text-align: right;\n",
       "    }\n",
       "</style>\n",
       "<table border=\"1\" class=\"dataframe\">\n",
       "  <thead>\n",
       "    <tr style=\"text-align: right;\">\n",
       "      <th></th>\n",
       "      <th>File_name</th>\n",
       "      <th>Data</th>\n",
       "    </tr>\n",
       "  </thead>\n",
       "  <tbody>\n",
       "  </tbody>\n",
       "</table>\n",
       "</div>"
      ],
      "text/plain": [
       "Empty DataFrame\n",
       "Columns: [File_name, Data]\n",
       "Index: []"
      ]
     },
     "execution_count": 59,
     "metadata": {},
     "output_type": "execute_result"
    }
   ],
   "source": [
    "dfl[dfl[\"File_name\"].str.strip()==\"GB00BZ58DH10_other1\"] #output not in total"
   ]
  },
  {
   "cell_type": "code",
   "execution_count": 82,
   "id": "95e438d0",
   "metadata": {},
   "outputs": [
    {
     "data": {
      "text/html": [
       "<div>\n",
       "<style scoped>\n",
       "    .dataframe tbody tr th:only-of-type {\n",
       "        vertical-align: middle;\n",
       "    }\n",
       "\n",
       "    .dataframe tbody tr th {\n",
       "        vertical-align: top;\n",
       "    }\n",
       "\n",
       "    .dataframe thead th {\n",
       "        text-align: right;\n",
       "    }\n",
       "</style>\n",
       "<table border=\"1\" class=\"dataframe\">\n",
       "  <thead>\n",
       "    <tr style=\"text-align: right;\">\n",
       "      <th></th>\n",
       "      <th>File_name</th>\n",
       "      <th>Data</th>\n",
       "    </tr>\n",
       "  </thead>\n",
       "  <tbody>\n",
       "  </tbody>\n",
       "</table>\n",
       "</div>"
      ],
      "text/plain": [
       "Empty DataFrame\n",
       "Columns: [File_name, Data]\n",
       "Index: []"
      ]
     },
     "execution_count": 82,
     "metadata": {},
     "output_type": "execute_result"
    }
   ],
   "source": [
    "dfl[dfl[\"File_name\"].str.strip()==\"GB0002570660_other14\"]"
   ]
  },
  {
   "cell_type": "code",
   "execution_count": 81,
   "id": "91f0b874",
   "metadata": {},
   "outputs": [
    {
     "data": {
      "text/html": [
       "<div>\n",
       "<style scoped>\n",
       "    .dataframe tbody tr th:only-of-type {\n",
       "        vertical-align: middle;\n",
       "    }\n",
       "\n",
       "    .dataframe tbody tr th {\n",
       "        vertical-align: top;\n",
       "    }\n",
       "\n",
       "    .dataframe thead th {\n",
       "        text-align: right;\n",
       "    }\n",
       "</style>\n",
       "<table border=\"1\" class=\"dataframe\">\n",
       "  <thead>\n",
       "    <tr style=\"text-align: right;\">\n",
       "      <th></th>\n",
       "      <th>isin</th>\n",
       "      <th>disclosure</th>\n",
       "      <th>File_name_output</th>\n",
       "    </tr>\n",
       "  </thead>\n",
       "  <tbody>\n",
       "    <tr>\n",
       "      <th>5109</th>\n",
       "      <td>GB0002570660</td>\n",
       "      <td>other14</td>\n",
       "      <td>GB0002570660_other14</td>\n",
       "    </tr>\n",
       "  </tbody>\n",
       "</table>\n",
       "</div>"
      ],
      "text/plain": [
       "              isin disclosure      File_name_output\n",
       "5109  GB0002570660    other14  GB0002570660_other14"
      ]
     },
     "execution_count": 81,
     "metadata": {},
     "output_type": "execute_result"
    }
   ],
   "source": [
    "dfn[dfn[\"File_name_output\"].str.strip()==\"GB0002570660_other14\"] #total not in output"
   ]
  },
  {
   "cell_type": "code",
   "execution_count": 86,
   "id": "f78191db",
   "metadata": {},
   "outputs": [
    {
     "data": {
      "text/html": [
       "<div>\n",
       "<style scoped>\n",
       "    .dataframe tbody tr th:only-of-type {\n",
       "        vertical-align: middle;\n",
       "    }\n",
       "\n",
       "    .dataframe tbody tr th {\n",
       "        vertical-align: top;\n",
       "    }\n",
       "\n",
       "    .dataframe thead th {\n",
       "        text-align: right;\n",
       "    }\n",
       "</style>\n",
       "<table border=\"1\" class=\"dataframe\">\n",
       "  <thead>\n",
       "    <tr style=\"text-align: right;\">\n",
       "      <th></th>\n",
       "      <th>isin</th>\n",
       "      <th>disclosure</th>\n",
       "      <th>File_name_output</th>\n",
       "    </tr>\n",
       "  </thead>\n",
       "  <tbody>\n",
       "  </tbody>\n",
       "</table>\n",
       "</div>"
      ],
      "text/plain": [
       "Empty DataFrame\n",
       "Columns: [isin, disclosure, File_name_output]\n",
       "Index: []"
      ]
     },
     "execution_count": 86,
     "metadata": {},
     "output_type": "execute_result"
    }
   ],
   "source": [
    "dfn[dfn[\"File_name_output\"].str.strip()==\"FR0004125920_earn\"]#total not in output"
   ]
  },
  {
   "cell_type": "markdown",
   "id": "3a185657",
   "metadata": {},
   "source": [
    "Conclusion: Unique Total input files-Output: 15807-12813=2994 Matching Total&Output: 12726, No data : 12813-12726=87(Need to get from client) Not present in output file: 3081(Perhaps analysis is not necessary)\n"
   ]
  },
  {
   "cell_type": "code",
   "execution_count": 90,
   "id": "db79439c",
   "metadata": {},
   "outputs": [
    {
     "data": {
      "text/plain": [
       "['GB0002570660_other14',\n",
       " 'BE0003826436_Q1',\n",
       " 'FI0009000400_other5',\n",
       " 'GB00B0358H47_other15',\n",
       " 'DE000A0Z23G6_earn']"
      ]
     },
     "execution_count": 90,
     "metadata": {},
     "output_type": "execute_result"
    }
   ],
   "source": [
    "New_missing_data_87=list(set(dfn[\"File_name_output\"].str.strip().unique())-set(df0kld[\"File_name_output\"].str.strip().unique()))\n",
    "New_missing_data_87[:5]"
   ]
  },
  {
   "cell_type": "code",
   "execution_count": 89,
   "id": "e101b36f",
   "metadata": {},
   "outputs": [
    {
     "data": {
      "text/plain": [
       "87"
      ]
     },
     "execution_count": 89,
     "metadata": {},
     "output_type": "execute_result"
    }
   ],
   "source": [
    "len(New_missing_data_87)"
   ]
  },
  {
   "cell_type": "code",
   "execution_count": 93,
   "id": "9b3d3c8f",
   "metadata": {},
   "outputs": [
    {
     "data": {
      "text/plain": [
       "0"
      ]
     },
     "execution_count": 93,
     "metadata": {},
     "output_type": "execute_result"
    }
   ],
   "source": [
    "Rows=set(Rows_3081)&set(New_missing_data_87)\n",
    "len(Rows)                                                #No common in both"
   ]
  },
  {
   "cell_type": "code",
   "execution_count": 98,
   "id": "2ccbd9e5",
   "metadata": {},
   "outputs": [
    {
     "data": {
      "text/html": [
       "<div>\n",
       "<style scoped>\n",
       "    .dataframe tbody tr th:only-of-type {\n",
       "        vertical-align: middle;\n",
       "    }\n",
       "\n",
       "    .dataframe tbody tr th {\n",
       "        vertical-align: top;\n",
       "    }\n",
       "\n",
       "    .dataframe thead th {\n",
       "        text-align: right;\n",
       "    }\n",
       "</style>\n",
       "<table border=\"1\" class=\"dataframe\">\n",
       "  <thead>\n",
       "    <tr style=\"text-align: right;\">\n",
       "      <th></th>\n",
       "      <th>isin</th>\n",
       "      <th>country</th>\n",
       "      <th>exchange</th>\n",
       "      <th>bvd_sector</th>\n",
       "      <th>sic</th>\n",
       "      <th>comname</th>\n",
       "      <th>disclosure</th>\n",
       "      <th>date</th>\n",
       "      <th>ABOVEMENTIONED</th>\n",
       "      <th>ABROGATE</th>\n",
       "      <th>...</th>\n",
       "      <th>WHOMSOEVER</th>\n",
       "      <th>WHOSOEVER</th>\n",
       "      <th>WILFUL</th>\n",
       "      <th>WILLFUL</th>\n",
       "      <th>WILLFULLY</th>\n",
       "      <th>WILLFULNESS</th>\n",
       "      <th>WITNESS</th>\n",
       "      <th>WITNESSES</th>\n",
       "      <th>WRIT</th>\n",
       "      <th>WRITS</th>\n",
       "    </tr>\n",
       "  </thead>\n",
       "  <tbody>\n",
       "    <tr>\n",
       "      <th>0</th>\n",
       "      <td>AT0000609607</td>\n",
       "      <td>Austria</td>\n",
       "      <td>Vienna Stock Exchange</td>\n",
       "      <td>Construction</td>\n",
       "      <td>1521</td>\n",
       "      <td>PORR AG</td>\n",
       "      <td>pre</td>\n",
       "      <td>2020-03-10</td>\n",
       "      <td>NaN</td>\n",
       "      <td>NaN</td>\n",
       "      <td>...</td>\n",
       "      <td>NaN</td>\n",
       "      <td>NaN</td>\n",
       "      <td>NaN</td>\n",
       "      <td>NaN</td>\n",
       "      <td>NaN</td>\n",
       "      <td>NaN</td>\n",
       "      <td>NaN</td>\n",
       "      <td>NaN</td>\n",
       "      <td>NaN</td>\n",
       "      <td>NaN</td>\n",
       "    </tr>\n",
       "    <tr>\n",
       "      <th>1</th>\n",
       "      <td>AT0000609607</td>\n",
       "      <td>Austria</td>\n",
       "      <td>Vienna Stock Exchange</td>\n",
       "      <td>Construction</td>\n",
       "      <td>1521</td>\n",
       "      <td>PORR AG</td>\n",
       "      <td>earn</td>\n",
       "      <td>2020-04-27</td>\n",
       "      <td>NaN</td>\n",
       "      <td>NaN</td>\n",
       "      <td>...</td>\n",
       "      <td>NaN</td>\n",
       "      <td>NaN</td>\n",
       "      <td>NaN</td>\n",
       "      <td>NaN</td>\n",
       "      <td>NaN</td>\n",
       "      <td>NaN</td>\n",
       "      <td>NaN</td>\n",
       "      <td>NaN</td>\n",
       "      <td>NaN</td>\n",
       "      <td>NaN</td>\n",
       "    </tr>\n",
       "    <tr>\n",
       "      <th>2</th>\n",
       "      <td>AT0000609607</td>\n",
       "      <td>Austria</td>\n",
       "      <td>Vienna Stock Exchange</td>\n",
       "      <td>Construction</td>\n",
       "      <td>1521</td>\n",
       "      <td>PORR AG</td>\n",
       "      <td>other1</td>\n",
       "      <td>2020-01-31</td>\n",
       "      <td>NaN</td>\n",
       "      <td>NaN</td>\n",
       "      <td>...</td>\n",
       "      <td>NaN</td>\n",
       "      <td>NaN</td>\n",
       "      <td>NaN</td>\n",
       "      <td>NaN</td>\n",
       "      <td>NaN</td>\n",
       "      <td>NaN</td>\n",
       "      <td>NaN</td>\n",
       "      <td>NaN</td>\n",
       "      <td>NaN</td>\n",
       "      <td>NaN</td>\n",
       "    </tr>\n",
       "    <tr>\n",
       "      <th>3</th>\n",
       "      <td>AT0000609607</td>\n",
       "      <td>Austria</td>\n",
       "      <td>Vienna Stock Exchange</td>\n",
       "      <td>Construction</td>\n",
       "      <td>1521</td>\n",
       "      <td>PORR AG</td>\n",
       "      <td>other2</td>\n",
       "      <td>2020-02-05</td>\n",
       "      <td>NaN</td>\n",
       "      <td>NaN</td>\n",
       "      <td>...</td>\n",
       "      <td>NaN</td>\n",
       "      <td>NaN</td>\n",
       "      <td>NaN</td>\n",
       "      <td>NaN</td>\n",
       "      <td>NaN</td>\n",
       "      <td>NaN</td>\n",
       "      <td>NaN</td>\n",
       "      <td>NaN</td>\n",
       "      <td>NaN</td>\n",
       "      <td>NaN</td>\n",
       "    </tr>\n",
       "    <tr>\n",
       "      <th>4</th>\n",
       "      <td>AT0000609607</td>\n",
       "      <td>Austria</td>\n",
       "      <td>Vienna Stock Exchange</td>\n",
       "      <td>Construction</td>\n",
       "      <td>1521</td>\n",
       "      <td>PORR AG</td>\n",
       "      <td>other3</td>\n",
       "      <td>2020-04-02</td>\n",
       "      <td>NaN</td>\n",
       "      <td>NaN</td>\n",
       "      <td>...</td>\n",
       "      <td>NaN</td>\n",
       "      <td>NaN</td>\n",
       "      <td>NaN</td>\n",
       "      <td>NaN</td>\n",
       "      <td>NaN</td>\n",
       "      <td>NaN</td>\n",
       "      <td>NaN</td>\n",
       "      <td>NaN</td>\n",
       "      <td>NaN</td>\n",
       "      <td>NaN</td>\n",
       "    </tr>\n",
       "  </tbody>\n",
       "</table>\n",
       "<p>5 rows × 912 columns</p>\n",
       "</div>"
      ],
      "text/plain": [
       "           isin  country               exchange    bvd_sector   sic  comname  \\\n",
       "0  AT0000609607  Austria  Vienna Stock Exchange  Construction  1521  PORR AG   \n",
       "1  AT0000609607  Austria  Vienna Stock Exchange  Construction  1521  PORR AG   \n",
       "2  AT0000609607  Austria  Vienna Stock Exchange  Construction  1521  PORR AG   \n",
       "3  AT0000609607  Austria  Vienna Stock Exchange  Construction  1521  PORR AG   \n",
       "4  AT0000609607  Austria  Vienna Stock Exchange  Construction  1521  PORR AG   \n",
       "\n",
       "  disclosure       date  ABOVEMENTIONED  ABROGATE  ...  WHOMSOEVER  WHOSOEVER  \\\n",
       "0        pre 2020-03-10             NaN       NaN  ...         NaN        NaN   \n",
       "1       earn 2020-04-27             NaN       NaN  ...         NaN        NaN   \n",
       "2     other1 2020-01-31             NaN       NaN  ...         NaN        NaN   \n",
       "3     other2 2020-02-05             NaN       NaN  ...         NaN        NaN   \n",
       "4     other3 2020-04-02             NaN       NaN  ...         NaN        NaN   \n",
       "\n",
       "   WILFUL  WILLFUL  WILLFULLY  WILLFULNESS  WITNESS  WITNESSES  WRIT  WRITS  \n",
       "0     NaN      NaN        NaN          NaN      NaN        NaN   NaN    NaN  \n",
       "1     NaN      NaN        NaN          NaN      NaN        NaN   NaN    NaN  \n",
       "2     NaN      NaN        NaN          NaN      NaN        NaN   NaN    NaN  \n",
       "3     NaN      NaN        NaN          NaN      NaN        NaN   NaN    NaN  \n",
       "4     NaN      NaN        NaN          NaN      NaN        NaN   NaN    NaN  \n",
       "\n",
       "[5 rows x 912 columns]"
      ]
     },
     "execution_count": 98,
     "metadata": {},
     "output_type": "execute_result"
    }
   ],
   "source": [
    "dfL=pd.read_excel(r'D:\\GF\\reshape_JanMay2020.xlsx', sheet_name=\"Litigious\")\n",
    "dfL.head()"
   ]
  },
  {
   "cell_type": "code",
   "execution_count": 99,
   "id": "7826a552",
   "metadata": {},
   "outputs": [
    {
     "data": {
      "text/plain": [
       "(12813, 912)"
      ]
     },
     "execution_count": 99,
     "metadata": {},
     "output_type": "execute_result"
    }
   ],
   "source": [
    "dfL.shape"
   ]
  },
  {
   "cell_type": "code",
   "execution_count": null,
   "id": "a25dc456",
   "metadata": {},
   "outputs": [],
   "source": []
  },
  {
   "cell_type": "code",
   "execution_count": null,
   "id": "4d80fc24",
   "metadata": {},
   "outputs": [],
   "source": []
  },
  {
   "cell_type": "code",
   "execution_count": null,
   "id": "f2039742",
   "metadata": {},
   "outputs": [],
   "source": []
  },
  {
   "cell_type": "code",
   "execution_count": null,
   "id": "18fb6e81",
   "metadata": {},
   "outputs": [],
   "source": []
  }
 ],
 "metadata": {
  "kernelspec": {
   "display_name": "Python 3 (ipykernel)",
   "language": "python",
   "name": "python3"
  },
  "language_info": {
   "codemirror_mode": {
    "name": "ipython",
    "version": 3
   },
   "file_extension": ".py",
   "mimetype": "text/x-python",
   "name": "python",
   "nbconvert_exporter": "python",
   "pygments_lexer": "ipython3",
   "version": "3.9.7"
  }
 },
 "nbformat": 4,
 "nbformat_minor": 5
}
