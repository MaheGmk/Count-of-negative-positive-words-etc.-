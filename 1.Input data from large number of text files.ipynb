{
 "cells": [
  {
   "cell_type": "code",
   "execution_count": 1,
   "id": "01d5f9aa",
   "metadata": {},
   "outputs": [],
   "source": [
    "import os\n",
    "import pandas as pd\n",
    "import numpy as np"
   ]
  },
  {
   "cell_type": "code",
   "execution_count": 12,
   "id": "51b928db",
   "metadata": {},
   "outputs": [],
   "source": [
    "data_folder1=os.path.join(\"D:\\GF\\input_2020\",'1_5000')\n",
    "data_folder2=os.path.join(\"D:\\GF\\input_2020\",'5001_10000')\n",
    "data_folder3=os.path.join(\"D:\\GF\\input_2020\",'10001_end')\n",
    "#importing data from local machine"
   ]
  },
  {
   "cell_type": "code",
   "execution_count": 13,
   "id": "f78cbc5f",
   "metadata": {},
   "outputs": [
    {
     "data": {
      "text/plain": [
       "'D:\\\\Gianfranco SICILIANO\\\\input_2020\\\\1_5000'"
      ]
     },
     "execution_count": 13,
     "metadata": {},
     "output_type": "execute_result"
    }
   ],
   "source": [
    "data_folder1         #checking the path"
   ]
  },
  {
   "cell_type": "code",
   "execution_count": 14,
   "id": "af8ff47a",
   "metadata": {},
   "outputs": [],
   "source": [
    "files1=[]\n",
    "data1=[]\n",
    "for root, folders,files in os.walk(data_folder1):\n",
    "    for file in files:\n",
    "        path=os.path.join(root,file)\n",
    "        files1.append(file.rstrip(\".txt\"))\n",
    "        with open(path,\"r\",encoding=\"latin-1\") as inf:\n",
    "            data1.append(inf.read())                   #saving the file names into files1 and data of those files into data1 respectively"
   ]
  },
  {
   "cell_type": "code",
   "execution_count": 16,
   "id": "a5e14510",
   "metadata": {},
   "outputs": [],
   "source": [
    "files2=[]\n",
    "data2=[]\n",
    "for root, folders,files in os.walk(data_folder2):\n",
    "    for file in files:\n",
    "        path=os.path.join(root,file)\n",
    "        files2.append(file.rstrip(\".txt\"))\n",
    "        with open(path,\"r\",encoding=\"latin-1\") as inf:\n",
    "            data2.append(inf.read())"
   ]
  },
  {
   "cell_type": "code",
   "execution_count": 17,
   "id": "0df96d48",
   "metadata": {},
   "outputs": [],
   "source": [
    "files3=[]\n",
    "data3=[]\n",
    "for root, folders,files in os.walk(data_folder3):\n",
    "    for file in files:\n",
    "        path=os.path.join(root,file)\n",
    "        files3.append(file.rstrip(\".txt\"))\n",
    "        with open(path,\"r\",encoding=\"latin-1\") as inf:\n",
    "            data3.append(inf.read())"
   ]
  },
  {
   "cell_type": "code",
   "execution_count": 15,
   "id": "925a4869",
   "metadata": {},
   "outputs": [
    {
     "data": {
      "text/html": [
       "<div>\n",
       "<style scoped>\n",
       "    .dataframe tbody tr th:only-of-type {\n",
       "        vertical-align: middle;\n",
       "    }\n",
       "\n",
       "    .dataframe tbody tr th {\n",
       "        vertical-align: top;\n",
       "    }\n",
       "\n",
       "    .dataframe thead th {\n",
       "        text-align: right;\n",
       "    }\n",
       "</style>\n",
       "<table border=\"1\" class=\"dataframe\">\n",
       "  <thead>\n",
       "    <tr style=\"text-align: right;\">\n",
       "      <th></th>\n",
       "      <th>File_name</th>\n",
       "      <th>Data</th>\n",
       "    </tr>\n",
       "  </thead>\n",
       "  <tbody>\n",
       "    <tr>\n",
       "      <th>0</th>\n",
       "      <td>AT0000609607_2020_earn</td>\n",
       "      <td>Press release\\nPORR: Record order backlog prov...</td>\n",
       "    </tr>\n",
       "    <tr>\n",
       "      <th>1</th>\n",
       "      <td>AT0000609607_2020_pre</td>\n",
       "      <td>Press release\\nPreliminary figures 2019:\\nPORR...</td>\n",
       "    </tr>\n",
       "    <tr>\n",
       "      <th>2</th>\n",
       "      <td>AT0000609607_other1</td>\n",
       "      <td>Press Release\\nPORR starts into 2020 with succ...</td>\n",
       "    </tr>\n",
       "    <tr>\n",
       "      <th>3</th>\n",
       "      <td>AT0000609607_other2</td>\n",
       "      <td>Press release\\nPORR to modernise strategically...</td>\n",
       "    </tr>\n",
       "    <tr>\n",
       "      <th>4</th>\n",
       "      <td>AT0000609607_other3</td>\n",
       "      <td>Press release\\nPORR hands over the Gleisarena ...</td>\n",
       "    </tr>\n",
       "  </tbody>\n",
       "</table>\n",
       "</div>"
      ],
      "text/plain": [
       "                File_name                                               Data\n",
       "0  AT0000609607_2020_earn  Press release\\nPORR: Record order backlog prov...\n",
       "1   AT0000609607_2020_pre  Press release\\nPreliminary figures 2019:\\nPORR...\n",
       "2     AT0000609607_other1  Press Release\\nPORR starts into 2020 with succ...\n",
       "3     AT0000609607_other2  Press release\\nPORR to modernise strategically...\n",
       "4     AT0000609607_other3  Press release\\nPORR hands over the Gleisarena ..."
      ]
     },
     "execution_count": 15,
     "metadata": {},
     "output_type": "execute_result"
    }
   ],
   "source": [
    "df_1_5000=pd.DataFrame({\"File_name\":files1,\"Data\":data1})\n",
    "df_1_5000.head()"
   ]
  },
  {
   "cell_type": "code",
   "execution_count": 18,
   "id": "618afc35",
   "metadata": {},
   "outputs": [
    {
     "data": {
      "text/html": [
       "<div>\n",
       "<style scoped>\n",
       "    .dataframe tbody tr th:only-of-type {\n",
       "        vertical-align: middle;\n",
       "    }\n",
       "\n",
       "    .dataframe tbody tr th {\n",
       "        vertical-align: top;\n",
       "    }\n",
       "\n",
       "    .dataframe thead th {\n",
       "        text-align: right;\n",
       "    }\n",
       "</style>\n",
       "<table border=\"1\" class=\"dataframe\">\n",
       "  <thead>\n",
       "    <tr style=\"text-align: right;\">\n",
       "      <th></th>\n",
       "      <th>File_name</th>\n",
       "      <th>Data</th>\n",
       "    </tr>\n",
       "  </thead>\n",
       "  <tbody>\n",
       "    <tr>\n",
       "      <th>0</th>\n",
       "      <td>FR0010291245_other10</td>\n",
       "      <td>Verimatrix to Announce First Quarter 2020 Reve...</td>\n",
       "    </tr>\n",
       "    <tr>\n",
       "      <th>1</th>\n",
       "      <td>FR0010291245_other11</td>\n",
       "      <td>Waoo Takes TV Authentication and Analytics to ...</td>\n",
       "    </tr>\n",
       "    <tr>\n",
       "      <th>2</th>\n",
       "      <td>FR0010291245_other12</td>\n",
       "      <td>Verimatrix Re-engineers its VCAS for DVB Broad...</td>\n",
       "    </tr>\n",
       "    <tr>\n",
       "      <th>3</th>\n",
       "      <td>FR0010291245_other13</td>\n",
       "      <td>Filing of 2019 Universal Registration Document...</td>\n",
       "    </tr>\n",
       "    <tr>\n",
       "      <th>4</th>\n",
       "      <td>FR0010291245_other14</td>\n",
       "      <td>Code Protection Leaders Join Forces to Arm App...</td>\n",
       "    </tr>\n",
       "  </tbody>\n",
       "</table>\n",
       "</div>"
      ],
      "text/plain": [
       "              File_name                                               Data\n",
       "0  FR0010291245_other10  Verimatrix to Announce First Quarter 2020 Reve...\n",
       "1  FR0010291245_other11  Waoo Takes TV Authentication and Analytics to ...\n",
       "2  FR0010291245_other12  Verimatrix Re-engineers its VCAS for DVB Broad...\n",
       "3  FR0010291245_other13  Filing of 2019 Universal Registration Document...\n",
       "4  FR0010291245_other14  Code Protection Leaders Join Forces to Arm App..."
      ]
     },
     "execution_count": 18,
     "metadata": {},
     "output_type": "execute_result"
    }
   ],
   "source": [
    "df_5001_10000=pd.DataFrame({\"File_name\":files2,\"Data\":data2})\n",
    "df_5001_10000.head()"
   ]
  },
  {
   "cell_type": "code",
   "execution_count": 19,
   "id": "ea855e4e",
   "metadata": {},
   "outputs": [
    {
     "data": {
      "text/html": [
       "<div>\n",
       "<style scoped>\n",
       "    .dataframe tbody tr th:only-of-type {\n",
       "        vertical-align: middle;\n",
       "    }\n",
       "\n",
       "    .dataframe tbody tr th {\n",
       "        vertical-align: top;\n",
       "    }\n",
       "\n",
       "    .dataframe thead th {\n",
       "        text-align: right;\n",
       "    }\n",
       "</style>\n",
       "<table border=\"1\" class=\"dataframe\">\n",
       "  <thead>\n",
       "    <tr style=\"text-align: right;\">\n",
       "      <th></th>\n",
       "      <th>File_name</th>\n",
       "      <th>Data</th>\n",
       "    </tr>\n",
       "  </thead>\n",
       "  <tbody>\n",
       "    <tr>\n",
       "      <th>0</th>\n",
       "      <td>GRS294003009_other10</td>\n",
       "      <td>Announcement of reorganization of BoD\\nAgios S...</td>\n",
       "    </tr>\n",
       "    <tr>\n",
       "      <th>1</th>\n",
       "      <td>GRS294003009_other11</td>\n",
       "      <td>Announcement of resignation of a member of the...</td>\n",
       "    </tr>\n",
       "    <tr>\n",
       "      <th>2</th>\n",
       "      <td>GRS294003009_other12</td>\n",
       "      <td>Announcement\\nAgios Stefanos, 19 February 2020...</td>\n",
       "    </tr>\n",
       "    <tr>\n",
       "      <th>3</th>\n",
       "      <td>GRS294003009_other13</td>\n",
       "      <td>Announcement\\nThe Company with the name \"FOLLI...</td>\n",
       "    </tr>\n",
       "    <tr>\n",
       "      <th>4</th>\n",
       "      <td>GRS294003009_other14</td>\n",
       "      <td>ANNOUNCEMENT OF ORGANIZATION OF THE BOARD OF D...</td>\n",
       "    </tr>\n",
       "  </tbody>\n",
       "</table>\n",
       "</div>"
      ],
      "text/plain": [
       "              File_name                                               Data\n",
       "0  GRS294003009_other10  Announcement of reorganization of BoD\\nAgios S...\n",
       "1  GRS294003009_other11  Announcement of resignation of a member of the...\n",
       "2  GRS294003009_other12  Announcement\\nAgios Stefanos, 19 February 2020...\n",
       "3  GRS294003009_other13  Announcement\\nThe Company with the name \"FOLLI...\n",
       "4  GRS294003009_other14  ANNOUNCEMENT OF ORGANIZATION OF THE BOARD OF D..."
      ]
     },
     "execution_count": 19,
     "metadata": {},
     "output_type": "execute_result"
    }
   ],
   "source": [
    "df_10001_end=pd.DataFrame({\"File_name\":files3,\"Data\":data3})\n",
    "df_10001_end.head()"
   ]
  },
  {
   "cell_type": "code",
   "execution_count": 20,
   "id": "0261e43b",
   "metadata": {},
   "outputs": [
    {
     "data": {
      "text/plain": [
       "((5000, 2), (5000, 2), (5807, 2))"
      ]
     },
     "execution_count": 20,
     "metadata": {},
     "output_type": "execute_result"
    }
   ],
   "source": [
    "df_1_5000.shape,df_5001_10000.shape,df_10001_end.shape"
   ]
  },
  {
   "cell_type": "code",
   "execution_count": 22,
   "id": "ace0e4a6",
   "metadata": {},
   "outputs": [
    {
     "data": {
      "text/html": [
       "<div>\n",
       "<style scoped>\n",
       "    .dataframe tbody tr th:only-of-type {\n",
       "        vertical-align: middle;\n",
       "    }\n",
       "\n",
       "    .dataframe tbody tr th {\n",
       "        vertical-align: top;\n",
       "    }\n",
       "\n",
       "    .dataframe thead th {\n",
       "        text-align: right;\n",
       "    }\n",
       "</style>\n",
       "<table border=\"1\" class=\"dataframe\">\n",
       "  <thead>\n",
       "    <tr style=\"text-align: right;\">\n",
       "      <th></th>\n",
       "      <th>File_name</th>\n",
       "      <th>Data</th>\n",
       "    </tr>\n",
       "  </thead>\n",
       "  <tbody>\n",
       "    <tr>\n",
       "      <th>0</th>\n",
       "      <td>AT0000609607_2020_earn</td>\n",
       "      <td>Press release\\nPORR: Record order backlog prov...</td>\n",
       "    </tr>\n",
       "    <tr>\n",
       "      <th>1</th>\n",
       "      <td>AT0000609607_2020_pre</td>\n",
       "      <td>Press release\\nPreliminary figures 2019:\\nPORR...</td>\n",
       "    </tr>\n",
       "    <tr>\n",
       "      <th>2</th>\n",
       "      <td>AT0000609607_other1</td>\n",
       "      <td>Press Release\\nPORR starts into 2020 with succ...</td>\n",
       "    </tr>\n",
       "    <tr>\n",
       "      <th>3</th>\n",
       "      <td>AT0000609607_other2</td>\n",
       "      <td>Press release\\nPORR to modernise strategically...</td>\n",
       "    </tr>\n",
       "    <tr>\n",
       "      <th>4</th>\n",
       "      <td>AT0000609607_other3</td>\n",
       "      <td>Press release\\nPORR hands over the Gleisarena ...</td>\n",
       "    </tr>\n",
       "  </tbody>\n",
       "</table>\n",
       "</div>"
      ],
      "text/plain": [
       "                File_name                                               Data\n",
       "0  AT0000609607_2020_earn  Press release\\nPORR: Record order backlog prov...\n",
       "1   AT0000609607_2020_pre  Press release\\nPreliminary figures 2019:\\nPORR...\n",
       "2     AT0000609607_other1  Press Release\\nPORR starts into 2020 with succ...\n",
       "3     AT0000609607_other2  Press release\\nPORR to modernise strategically...\n",
       "4     AT0000609607_other3  Press release\\nPORR hands over the Gleisarena ..."
      ]
     },
     "execution_count": 22,
     "metadata": {},
     "output_type": "execute_result"
    }
   ],
   "source": [
    "Final_df=pd.concat([df_1_5000,df_5001_10000,df_10001_end],axis=0)\n",
    "Final_df.head()                                                   #concatenating all the dataframes to form one single DataFrame"
   ]
  },
  {
   "cell_type": "code",
   "execution_count": 24,
   "id": "bfca850a",
   "metadata": {},
   "outputs": [],
   "source": [
    "Final_df.to_csv(\"Complete_GF_data_2020.csv\",index=False)  #saving whole DataFrame as csv file"
   ]
  },
  {
   "cell_type": "code",
   "execution_count": 25,
   "id": "1658b346",
   "metadata": {},
   "outputs": [
    {
     "data": {
      "text/plain": [
       "(15807, 2)"
      ]
     },
     "execution_count": 25,
     "metadata": {},
     "output_type": "execute_result"
    }
   ],
   "source": [
    "Final_df.shape"
   ]
  }
 ],
 "metadata": {
  "kernelspec": {
   "display_name": "Python 3 (ipykernel)",
   "language": "python",
   "name": "python3"
  },
  "language_info": {
   "codemirror_mode": {
    "name": "ipython",
    "version": 3
   },
   "file_extension": ".py",
   "mimetype": "text/x-python",
   "name": "python",
   "nbconvert_exporter": "python",
   "pygments_lexer": "ipython3",
   "version": "3.9.7"
  }
 },
 "nbformat": 4,
 "nbformat_minor": 5
}
